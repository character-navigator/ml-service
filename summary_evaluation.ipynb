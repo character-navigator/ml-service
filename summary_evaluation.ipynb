{
 "cells": [
  {
   "cell_type": "code",
   "execution_count": 8,
   "metadata": {},
   "outputs": [
    {
     "name": "stdout",
     "output_type": "stream",
     "text": [
      "BERTScore Precision: 0.7254, Recall: 0.5822, F1: 0.6460\n"
     ]
    }
   ],
   "source": [
    "from transformers import BertTokenizer, BertModel\n",
    "from bert_score import BERTScorer\n",
    "# Example texts\n",
    "reference = \"Jove, also known as Zeus, is the king of the gods and a pivotal divine figure, wielding control over the weather and fate. His relationship with other characters is complex; he is the father of Athena and Apollo, who advocate for Odysseus, and he must balance their wishes with the laws of the gods. Despite his ultimate authority, Jove often appears detached, allowing mortals to exercise free will, yet he occasionally intervenes with thunderbolts or omens. His personality is multifaceted—capricious yet bound by the customs of divine intervention, he can be both a source of mercy and a harbinger of doom. Jove's physical appearance is not detailed, as he and the gods can change forms at will. His presence is felt more through his actions and the weather phenomena he controls.\"\n",
    "candidate = \"Jove, also known as Zeus, is a character of significant importance and power, being the king of the gods. Although he does not directly interact with the other characters, his will and influence are frequently referred to, indicating his high status and authority.\"\n",
    "# BERTScore calculation\n",
    "scorer = BERTScorer(model_type='bert-base-uncased')\n",
    "P, R, F1 = scorer.score([candidate], [reference])\n",
    "print(f\"BERTScore Precision: {P.mean():.4f}, Recall: {R.mean():.4f}, F1: {F1.mean():.4f}\")"
   ]
  }
 ],
 "metadata": {
  "kernelspec": {
   "display_name": "base",
   "language": "python",
   "name": "python3"
  },
  "language_info": {
   "codemirror_mode": {
    "name": "ipython",
    "version": 3
   },
   "file_extension": ".py",
   "mimetype": "text/x-python",
   "name": "python",
   "nbconvert_exporter": "python",
   "pygments_lexer": "ipython3",
   "version": "3.11.7"
  }
 },
 "nbformat": 4,
 "nbformat_minor": 2
}
