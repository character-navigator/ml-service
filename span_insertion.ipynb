{
 "cells": [
  {
   "cell_type": "code",
   "execution_count": 4,
   "metadata": {},
   "outputs": [],
   "source": [
    "import pandas as pd\n",
    "import ebooklib\n",
    "from ebooklib import epub"
   ]
  },
  {
   "cell_type": "code",
   "execution_count": 5,
   "metadata": {},
   "outputs": [
    {
     "name": "stderr",
     "output_type": "stream",
     "text": [
      "c:\\Users\\AxelLokrantz\\anaconda3\\Lib\\site-packages\\ebooklib\\epub.py:1395: UserWarning: In the future version we will turn default option ignore_ncx to True.\n",
      "  warnings.warn('In the future version we will turn default option ignore_ncx to True.')\n"
     ]
    }
   ],
   "source": [
    "book_names = [\"the-odyssey\", \"war-and-peace\", \"animal-farm\", \"a-christmas-carol\"]\n",
    "book_index = 1\n",
    "\n",
    "names = pd.read_csv(f'data/characters/{book_names[book_index]}_characters.csv')['name'][:20].tolist()\n",
    "book = epub.read_epub(f'data/books/{book_names[book_index]}.epub')\n",
    "\n",
    "for item in book.get_items():\n",
    "    if item.get_type() == ebooklib.ITEM_DOCUMENT:\n",
    "        content = item.get_content().decode('utf-8')\n",
    "        for name in names:\n",
    "            if name in content:\n",
    "                content = content.replace(name, f\"<span class=\\\"character\\\">{name}</span>\")\n",
    "\n",
    "        item.content = content.encode('utf-8')\n",
    "\n",
    "epub.write_epub(f'data/books-with-span/{book_names[book_index]}_modified.epub', book)"
   ]
  },
  {
   "cell_type": "code",
   "execution_count": null,
   "metadata": {},
   "outputs": [],
   "source": []
  }
 ],
 "metadata": {
  "kernelspec": {
   "display_name": "base",
   "language": "python",
   "name": "python3"
  },
  "language_info": {
   "codemirror_mode": {
    "name": "ipython",
    "version": 3
   },
   "file_extension": ".py",
   "mimetype": "text/x-python",
   "name": "python",
   "nbconvert_exporter": "python",
   "pygments_lexer": "ipython3",
   "version": "3.11.7"
  }
 },
 "nbformat": 4,
 "nbformat_minor": 2
}
